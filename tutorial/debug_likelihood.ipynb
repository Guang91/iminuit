# demonstrate how to debug likelihood function 
